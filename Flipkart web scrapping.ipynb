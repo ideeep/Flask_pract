{
 "cells": [
  {
   "cell_type": "markdown",
   "id": "3392a88d",
   "metadata": {},
   "source": [
    "# Problem 1\n",
    "#### visit the website https://www.flipkart.com/ then choose anyproductfind out the review from the productand arrange in the csv file(name of person, rating, title, review) finally create a end to end application from the above usecase and show case the data over the html page the before next session you can complete it by friday you can submit to my mail id and keep in cc krish sir sunny.savita@ineuron.ai krish.naik@ineuron.ai"
   ]
  },
  {
   "cell_type": "code",
   "execution_count": null,
   "id": "98b02c7f",
   "metadata": {},
   "outputs": [
    {
     "name": "stdout",
     "output_type": "stream",
     "text": [
      " * Serving Flask app '__main__'\n",
      " * Debug mode: off\n",
      "commited.\n",
      "deep\n"
     ]
    }
   ],
   "source": [
    "import requests\n",
    "import csv\n",
    "from bs4 import BeautifulSoup\n",
    "import logging\n",
    "import cx_Oracle\n",
    "from flask import Flask, render_template, request,jsonify\n",
    "from flask_cors import CORS,cross_origin\n",
    "import logging\n",
    "logging.basicConfig(filename=\"scrapper.log\" , level=logging.INFO)\n",
    "import os\n",
    "\n",
    "application = Flask(__name__)\n",
    "app=application\n",
    "\n",
    "@app.route(\"/\", methods = ['GET'])\n",
    "def homepage():\n",
    "    return render_template(\"index.html\")\n",
    "\n",
    "@app.route(\"/review\" , methods = ['POST' , 'GET'])\n",
    "def index():\n",
    "    try:\n",
    "        if request.method == 'POST':\n",
    "            try:\n",
    "                query = request.form['content'].replace(\" \",\"\")\n",
    "                connection_string = 'deep_db/1122@localhost:1521/xe'\n",
    "                connection = cx_Oracle.connect(connection_string)\n",
    "\n",
    "                query = 'apple-iphone-14-midnight-256-gb'\n",
    "                headers = {\"User-Agent\": \"Mozilla/5.0 (Windows NT 10.0; Win64; x64) AppleWebKit/537.36 (KHTML, like Gecko) Chrome/58.0.3029.110 Safari/537.36\"}\n",
    "                response = requests.get(f\"https://www.flipkart.com/{query}/product-reviews/itmdb32e3c997112?pid=MOBGHWFH4H3MMRAA&lid=LSTMOBGHWFH4H3MMRAAO7KNHD&marketplace=FLIPKART\")\n",
    "                soup = BeautifulSoup(response.content, \"html.parser\")\n",
    "                review_elements = soup.find_all(\"div\", class_=\"col _2wzgFH K0kLPL\")\n",
    "                reviews = []\n",
    "                for i in review_elements:\n",
    "                    reviewer_name = i.find(\"p\", class_=\"_2sc7ZR _2V5EHH\").text.strip()\n",
    "                    location = i.find(\"p\", class_=\"_2mcZGG\").text[17:]\n",
    "                    title = i.find(\"p\", class_=\"_2-N8zT\").text.strip()\n",
    "                    desc = i.find(\"div\", class_=\"t-ZTKy\").text[:-9]\n",
    "                    rate = int(i.find(\"div\", class_=\"_3LWZlK _1BLPMq\").text)\n",
    "\n",
    "                    # ==========================================================\n",
    "                    sql_query = \"SELECT object_name from all_objects where upper(object_name) = 'INS_DB_TEST_PY' and upper(object_type)='TABLE'\"\n",
    "                    with connection.cursor() as cursor:\n",
    "                        cursor.execute(sql_query)\n",
    "                        result = cursor.fetchall()\n",
    "                        if len(result) == 0:\n",
    "                            sql_query1 = 'create table INS_DB_TEST_PY(name varchar2(35), location varchar2(100), title varchar2(1000), rate number, description varchar2(1000))'\n",
    "                            cursor.execute(sql_query1)\n",
    "                            print('Table created')\n",
    "                        else:\n",
    "                            sql_query1 = \"INSERT INTO INS_DB_TEST_PY (name, location, title, rate, discription) VALUES (:1, :2, :3, :4, :5)\"\n",
    "                            data_to_insert = (reviewer_name, location, title, rate, desc)\n",
    "                            cursor.execute(sql_query1, data_to_insert)\n",
    "                            connection.commit()\n",
    "                    # ============================================================\n",
    "                    review_data = {\n",
    "                        \"Reviewer Name\": reviewer_name,\n",
    "                        # \"Review Date\": review_date,\n",
    "                        \"Location\": location,\n",
    "                        \"Title\": title,\n",
    "                        \"Rate\": rate,\n",
    "                        \"Description\": desc\n",
    "                    }\n",
    "                    reviews.append(review_data)\n",
    "                    #print('the type is ',  type(review_data))\n",
    "                \"\"\"for review in reviews:\n",
    "                    print(review)\"\"\"\n",
    "            finally:\n",
    "                if 'connection' in locals() and connection:\n",
    "                    connection.close()\n",
    "                    print(\"commited.\")\n",
    "            print('deep')\n",
    "            \"\"\"headers = ['Name', 'Location', 'Title','Rate','description']\n",
    "            with open('Data.csv', 'w') as file:\n",
    "                writer = csv.DictWriter(file, fieldnames=headers)\n",
    "                writer.writerows(reviews)\"\"\"\n",
    "            return render_template('result.html', reviews=reviews)\n",
    "        else:\n",
    "            print('narayan')\n",
    "            return render_template('index.html')\n",
    "    except Exception as e:\n",
    "        logging.error(f\"An error occurred: {str(e)}\")\n",
    "        return \"Internal Server Error\", 500\n",
    "\n",
    "if __name__ == \"__main__\":\n",
    "    app.run()\n",
    "    "
   ]
  },
  {
   "cell_type": "code",
   "execution_count": null,
   "id": "24b1b8a7",
   "metadata": {},
   "outputs": [],
   "source": []
  }
 ],
 "metadata": {
  "kernelspec": {
   "display_name": "Python 3 (ipykernel)",
   "language": "python",
   "name": "python3"
  },
  "language_info": {
   "codemirror_mode": {
    "name": "ipython",
    "version": 3
   },
   "file_extension": ".py",
   "mimetype": "text/x-python",
   "name": "python",
   "nbconvert_exporter": "python",
   "pygments_lexer": "ipython3",
   "version": "3.11.3"
  }
 },
 "nbformat": 4,
 "nbformat_minor": 5
}
